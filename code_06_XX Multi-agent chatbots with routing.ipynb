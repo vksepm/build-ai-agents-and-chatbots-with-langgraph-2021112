{
  "cells": [
    {
      "cell_type": "markdown",
      "metadata": {
        "id": "view-in-github",
        "colab_type": "text"
      },
      "source": [
        "<a href=\"https://colab.research.google.com/github/vksepm/build-ai-agents-and-chatbots-with-langgraph-2021112/blob/main/code_06_XX%20Multi-agent%20chatbots%20with%20routing.ipynb\" target=\"_parent\"><img src=\"https://colab.research.google.com/assets/colab-badge.svg\" alt=\"Open In Colab\"/></a>"
      ]
    },
    {
      "cell_type": "code",
      "source": [
        "!pip install -qU langchain_openai \\\n",
        "  langgraph"
      ],
      "metadata": {
        "id": "aYJwrMUaFHOH",
        "outputId": "377bf020-0c58-4907-923a-96e937d4f5e0",
        "colab": {
          "base_uri": "https://localhost:8080/"
        }
      },
      "id": "aYJwrMUaFHOH",
      "execution_count": 1,
      "outputs": [
        {
          "output_type": "stream",
          "name": "stdout",
          "text": [
            "\u001b[?25l   \u001b[90m━━━━━━━━━━━━━━━━━━━━━━━━━━━━━━━━━━━━━━━━\u001b[0m \u001b[32m0.0/61.2 kB\u001b[0m \u001b[31m?\u001b[0m eta \u001b[36m-:--:--\u001b[0m\r\u001b[2K   \u001b[90m━━━━━━━━━━━━━━━━━━━━━━━━━━━━━━━━━━━━━━━━\u001b[0m \u001b[32m61.2/61.2 kB\u001b[0m \u001b[31m2.6 MB/s\u001b[0m eta \u001b[36m0:00:00\u001b[0m\n",
            "\u001b[?25h\u001b[?25l   \u001b[90m━━━━━━━━━━━━━━━━━━━━━━━━━━━━━━━━━━━━━━━━\u001b[0m \u001b[32m0.0/137.9 kB\u001b[0m \u001b[31m?\u001b[0m eta \u001b[36m-:--:--\u001b[0m\r\u001b[2K   \u001b[90m━━━━━━━━━━━━━━━━━━━━━━━━━━━━━━━━━━━━━━━━\u001b[0m \u001b[32m137.9/137.9 kB\u001b[0m \u001b[31m9.1 MB/s\u001b[0m eta \u001b[36m0:00:00\u001b[0m\n",
            "\u001b[?25h\u001b[?25l   \u001b[90m━━━━━━━━━━━━━━━━━━━━━━━━━━━━━━━━━━━━━━━━\u001b[0m \u001b[32m0.0/418.7 kB\u001b[0m \u001b[31m?\u001b[0m eta \u001b[36m-:--:--\u001b[0m\r\u001b[2K   \u001b[90m━━━━━━━━━━━━━━━━━━━━━━━━━━━━━━━━━━━━━━━━\u001b[0m \u001b[32m418.7/418.7 kB\u001b[0m \u001b[31m22.0 MB/s\u001b[0m eta \u001b[36m0:00:00\u001b[0m\n",
            "\u001b[?25h\u001b[?25l   \u001b[90m━━━━━━━━━━━━━━━━━━━━━━━━━━━━━━━━━━━━━━━━\u001b[0m \u001b[32m0.0/41.2 kB\u001b[0m \u001b[31m?\u001b[0m eta \u001b[36m-:--:--\u001b[0m\r\u001b[2K   \u001b[90m━━━━━━━━━━━━━━━━━━━━━━━━━━━━━━━━━━━━━━━━\u001b[0m \u001b[32m41.2/41.2 kB\u001b[0m \u001b[31m2.7 MB/s\u001b[0m eta \u001b[36m0:00:00\u001b[0m\n",
            "\u001b[2K   \u001b[90m━━━━━━━━━━━━━━━━━━━━━━━━━━━━━━━━━━━━━━━━\u001b[0m \u001b[32m46.5/46.5 kB\u001b[0m \u001b[31m2.9 MB/s\u001b[0m eta \u001b[36m0:00:00\u001b[0m\n",
            "\u001b[2K   \u001b[90m━━━━━━━━━━━━━━━━━━━━━━━━━━━━━━━━━━━━━━━━\u001b[0m \u001b[32m606.1/606.1 kB\u001b[0m \u001b[31m29.0 MB/s\u001b[0m eta \u001b[36m0:00:00\u001b[0m\n",
            "\u001b[2K   \u001b[90m━━━━━━━━━━━━━━━━━━━━━━━━━━━━━━━━━━━━━━━━\u001b[0m \u001b[32m1.2/1.2 MB\u001b[0m \u001b[31m38.9 MB/s\u001b[0m eta \u001b[36m0:00:00\u001b[0m\n",
            "\u001b[2K   \u001b[90m━━━━━━━━━━━━━━━━━━━━━━━━━━━━━━━━━━━━━━━━\u001b[0m \u001b[32m194.8/194.8 kB\u001b[0m \u001b[31m11.9 MB/s\u001b[0m eta \u001b[36m0:00:00\u001b[0m\n",
            "\u001b[?25h"
          ]
        }
      ]
    },
    {
      "cell_type": "markdown",
      "id": "94c7909b-b762-4844-a075-9874d62a17df",
      "metadata": {
        "id": "94c7909b-b762-4844-a075-9874d62a17df"
      },
      "source": [
        "## Setup Models"
      ]
    },
    {
      "cell_type": "code",
      "execution_count": 2,
      "id": "d3f70936-4b41-4991-91ec-027962cd14c2",
      "metadata": {
        "id": "d3f70936-4b41-4991-91ec-027962cd14c2"
      },
      "outputs": [],
      "source": [
        "from langchain_openai import AzureChatOpenAI\n",
        "from langchain_openai import AzureOpenAIEmbeddings\n",
        "import os\n",
        "\n",
        "#Setup the environment variables\n",
        "os.environ[\"AZURE_OPENAI_API_KEY\"]=\"4e4ab31800a64ae892cbb768fe28c0fc\"\n",
        "os.environ[\"AZURE_OPENAI_ENDPOINT\"]=\"https://agentic-ai-course-kumaran.openai.azure.com/\"\n",
        "\n",
        "#Setup the LLM\n",
        "model = AzureChatOpenAI(\n",
        "    azure_deployment=\"gpt-4o\" ,\n",
        "    api_version=\"2023-03-15-preview\",\n",
        "    model=\"gpt-4o\"\n",
        ")"
      ]
    },
    {
      "cell_type": "markdown",
      "id": "81e9d506-3cbf-4bcd-a00f-d86a4c2aa4a7",
      "metadata": {
        "id": "81e9d506-3cbf-4bcd-a00f-d86a4c2aa4a7"
      },
      "source": [
        "## 06.03. Using agents as Graph nodes"
      ]
    },
    {
      "cell_type": "code",
      "execution_count": 3,
      "id": "d85f6f81-ec83-4229-88eb-63592d460bfe",
      "metadata": {
        "id": "d85f6f81-ec83-4229-88eb-63592d460bfe",
        "outputId": "f0ad794f-1e7d-4b28-eeab-72c5f514e7e5",
        "colab": {
          "base_uri": "https://localhost:8080/",
          "height": 443
        }
      },
      "outputs": [
        {
          "output_type": "error",
          "ename": "Exception",
          "evalue": "File `'code_03_XX Product QnA Agentic chatbot.ipynb.py'` not found.",
          "traceback": [
            "\u001b[0;31m---------------------------------------------------------------------------\u001b[0m",
            "\u001b[0;31mOSError\u001b[0m                                   Traceback (most recent call last)",
            "\u001b[0;32m/usr/local/lib/python3.11/dist-packages/IPython/core/magics/execution.py\u001b[0m in \u001b[0;36mrun\u001b[0;34m(self, parameter_s, runner, file_finder)\u001b[0m\n\u001b[1;32m    713\u001b[0m             \u001b[0mfpath\u001b[0m \u001b[0;34m=\u001b[0m \u001b[0marg_lst\u001b[0m\u001b[0;34m[\u001b[0m\u001b[0;36m0\u001b[0m\u001b[0;34m]\u001b[0m\u001b[0;34m\u001b[0m\u001b[0;34m\u001b[0m\u001b[0m\n\u001b[0;32m--> 714\u001b[0;31m             \u001b[0mfilename\u001b[0m \u001b[0;34m=\u001b[0m \u001b[0mfile_finder\u001b[0m\u001b[0;34m(\u001b[0m\u001b[0mfpath\u001b[0m\u001b[0;34m)\u001b[0m\u001b[0;34m\u001b[0m\u001b[0;34m\u001b[0m\u001b[0m\n\u001b[0m\u001b[1;32m    715\u001b[0m         \u001b[0;32mexcept\u001b[0m \u001b[0mIndexError\u001b[0m\u001b[0;34m:\u001b[0m\u001b[0;34m\u001b[0m\u001b[0;34m\u001b[0m\u001b[0m\n",
            "\u001b[0;32m/usr/local/lib/python3.11/dist-packages/IPython/utils/path.py\u001b[0m in \u001b[0;36mget_py_filename\u001b[0;34m(name, force_win32)\u001b[0m\n\u001b[1;32m    108\u001b[0m     \u001b[0;32melse\u001b[0m\u001b[0;34m:\u001b[0m\u001b[0;34m\u001b[0m\u001b[0;34m\u001b[0m\u001b[0m\n\u001b[0;32m--> 109\u001b[0;31m         \u001b[0;32mraise\u001b[0m \u001b[0mIOError\u001b[0m\u001b[0;34m(\u001b[0m\u001b[0;34m'File `%r` not found.'\u001b[0m \u001b[0;34m%\u001b[0m \u001b[0mname\u001b[0m\u001b[0;34m)\u001b[0m\u001b[0;34m\u001b[0m\u001b[0;34m\u001b[0m\u001b[0m\n\u001b[0m\u001b[1;32m    110\u001b[0m \u001b[0;34m\u001b[0m\u001b[0m\n",
            "\u001b[0;31mOSError\u001b[0m: File `'code_03_XX Product QnA Agentic chatbot.ipynb.py'` not found.",
            "\nDuring handling of the above exception, another exception occurred:\n",
            "\u001b[0;31mException\u001b[0m                                 Traceback (most recent call last)",
            "\u001b[0;32m<ipython-input-3-e67dedb0fef0>\u001b[0m in \u001b[0;36m<cell line: 0>\u001b[0;34m()\u001b[0m\n\u001b[1;32m      4\u001b[0m \u001b[0;34m\u001b[0m\u001b[0m\n\u001b[1;32m      5\u001b[0m \u001b[0;31m#import the Product QnA Agent\u001b[0m\u001b[0;34m\u001b[0m\u001b[0;34m\u001b[0m\u001b[0m\n\u001b[0;32m----> 6\u001b[0;31m \u001b[0mget_ipython\u001b[0m\u001b[0;34m(\u001b[0m\u001b[0;34m)\u001b[0m\u001b[0;34m.\u001b[0m\u001b[0mrun_line_magic\u001b[0m\u001b[0;34m(\u001b[0m\u001b[0;34m'run'\u001b[0m\u001b[0;34m,\u001b[0m \u001b[0;34m'\"code_03_XX Product QnA Agentic chatbot.ipynb\"'\u001b[0m\u001b[0;34m)\u001b[0m\u001b[0;34m\u001b[0m\u001b[0;34m\u001b[0m\u001b[0m\n\u001b[0m\u001b[1;32m      7\u001b[0m \u001b[0mprint\u001b[0m\u001b[0;34m(\u001b[0m\u001b[0;34m\"===============================================================\"\u001b[0m\u001b[0;34m)\u001b[0m\u001b[0;34m\u001b[0m\u001b[0;34m\u001b[0m\u001b[0m\n\u001b[1;32m      8\u001b[0m \u001b[0;31m#import the orders agents\u001b[0m\u001b[0;34m\u001b[0m\u001b[0;34m\u001b[0m\u001b[0m\n",
            "\u001b[0;32m/usr/local/lib/python3.11/dist-packages/IPython/core/interactiveshell.py\u001b[0m in \u001b[0;36mrun_line_magic\u001b[0;34m(self, magic_name, line, _stack_depth)\u001b[0m\n\u001b[1;32m   2416\u001b[0m                 \u001b[0mkwargs\u001b[0m\u001b[0;34m[\u001b[0m\u001b[0;34m'local_ns'\u001b[0m\u001b[0;34m]\u001b[0m \u001b[0;34m=\u001b[0m \u001b[0mself\u001b[0m\u001b[0;34m.\u001b[0m\u001b[0mget_local_scope\u001b[0m\u001b[0;34m(\u001b[0m\u001b[0mstack_depth\u001b[0m\u001b[0;34m)\u001b[0m\u001b[0;34m\u001b[0m\u001b[0;34m\u001b[0m\u001b[0m\n\u001b[1;32m   2417\u001b[0m             \u001b[0;32mwith\u001b[0m \u001b[0mself\u001b[0m\u001b[0;34m.\u001b[0m\u001b[0mbuiltin_trap\u001b[0m\u001b[0;34m:\u001b[0m\u001b[0;34m\u001b[0m\u001b[0;34m\u001b[0m\u001b[0m\n\u001b[0;32m-> 2418\u001b[0;31m                 \u001b[0mresult\u001b[0m \u001b[0;34m=\u001b[0m \u001b[0mfn\u001b[0m\u001b[0;34m(\u001b[0m\u001b[0;34m*\u001b[0m\u001b[0margs\u001b[0m\u001b[0;34m,\u001b[0m \u001b[0;34m**\u001b[0m\u001b[0mkwargs\u001b[0m\u001b[0;34m)\u001b[0m\u001b[0;34m\u001b[0m\u001b[0;34m\u001b[0m\u001b[0m\n\u001b[0m\u001b[1;32m   2419\u001b[0m             \u001b[0;32mreturn\u001b[0m \u001b[0mresult\u001b[0m\u001b[0;34m\u001b[0m\u001b[0;34m\u001b[0m\u001b[0m\n\u001b[1;32m   2420\u001b[0m \u001b[0;34m\u001b[0m\u001b[0m\n",
            "\u001b[0;32m<decorator-gen-52>\u001b[0m in \u001b[0;36mrun\u001b[0;34m(self, parameter_s, runner, file_finder)\u001b[0m\n",
            "\u001b[0;32m/usr/local/lib/python3.11/dist-packages/IPython/core/magic.py\u001b[0m in \u001b[0;36m<lambda>\u001b[0;34m(f, *a, **k)\u001b[0m\n\u001b[1;32m    185\u001b[0m     \u001b[0;31m# but it's overkill for just that one bit of state.\u001b[0m\u001b[0;34m\u001b[0m\u001b[0;34m\u001b[0m\u001b[0m\n\u001b[1;32m    186\u001b[0m     \u001b[0;32mdef\u001b[0m \u001b[0mmagic_deco\u001b[0m\u001b[0;34m(\u001b[0m\u001b[0marg\u001b[0m\u001b[0;34m)\u001b[0m\u001b[0;34m:\u001b[0m\u001b[0;34m\u001b[0m\u001b[0;34m\u001b[0m\u001b[0m\n\u001b[0;32m--> 187\u001b[0;31m         \u001b[0mcall\u001b[0m \u001b[0;34m=\u001b[0m \u001b[0;32mlambda\u001b[0m \u001b[0mf\u001b[0m\u001b[0;34m,\u001b[0m \u001b[0;34m*\u001b[0m\u001b[0ma\u001b[0m\u001b[0;34m,\u001b[0m \u001b[0;34m**\u001b[0m\u001b[0mk\u001b[0m\u001b[0;34m:\u001b[0m \u001b[0mf\u001b[0m\u001b[0;34m(\u001b[0m\u001b[0;34m*\u001b[0m\u001b[0ma\u001b[0m\u001b[0;34m,\u001b[0m \u001b[0;34m**\u001b[0m\u001b[0mk\u001b[0m\u001b[0;34m)\u001b[0m\u001b[0;34m\u001b[0m\u001b[0;34m\u001b[0m\u001b[0m\n\u001b[0m\u001b[1;32m    188\u001b[0m \u001b[0;34m\u001b[0m\u001b[0m\n\u001b[1;32m    189\u001b[0m         \u001b[0;32mif\u001b[0m \u001b[0mcallable\u001b[0m\u001b[0;34m(\u001b[0m\u001b[0marg\u001b[0m\u001b[0;34m)\u001b[0m\u001b[0;34m:\u001b[0m\u001b[0;34m\u001b[0m\u001b[0;34m\u001b[0m\u001b[0m\n",
            "\u001b[0;32m/usr/local/lib/python3.11/dist-packages/IPython/core/magics/execution.py\u001b[0m in \u001b[0;36mrun\u001b[0;34m(self, parameter_s, runner, file_finder)\u001b[0m\n\u001b[1;32m    723\u001b[0m             \u001b[0;32mif\u001b[0m \u001b[0mos\u001b[0m\u001b[0;34m.\u001b[0m\u001b[0mname\u001b[0m \u001b[0;34m==\u001b[0m \u001b[0;34m'nt'\u001b[0m \u001b[0;32mand\u001b[0m \u001b[0mre\u001b[0m\u001b[0;34m.\u001b[0m\u001b[0mmatch\u001b[0m\u001b[0;34m(\u001b[0m\u001b[0;34mr\"^'.*'$\"\u001b[0m\u001b[0;34m,\u001b[0m\u001b[0mfpath\u001b[0m\u001b[0;34m)\u001b[0m\u001b[0;34m:\u001b[0m\u001b[0;34m\u001b[0m\u001b[0;34m\u001b[0m\u001b[0m\n\u001b[1;32m    724\u001b[0m                 \u001b[0mwarn\u001b[0m\u001b[0;34m(\u001b[0m\u001b[0;34m'For Windows, use double quotes to wrap a filename: %run \"mypath\\\\myfile.py\"'\u001b[0m\u001b[0;34m)\u001b[0m\u001b[0;34m\u001b[0m\u001b[0;34m\u001b[0m\u001b[0m\n\u001b[0;32m--> 725\u001b[0;31m             \u001b[0;32mraise\u001b[0m \u001b[0mException\u001b[0m\u001b[0;34m(\u001b[0m\u001b[0mmsg\u001b[0m\u001b[0;34m)\u001b[0m\u001b[0;34m\u001b[0m\u001b[0;34m\u001b[0m\u001b[0m\n\u001b[0m\u001b[1;32m    726\u001b[0m         \u001b[0;32mexcept\u001b[0m \u001b[0mTypeError\u001b[0m\u001b[0;34m:\u001b[0m\u001b[0;34m\u001b[0m\u001b[0;34m\u001b[0m\u001b[0m\n\u001b[1;32m    727\u001b[0m             \u001b[0;32mif\u001b[0m \u001b[0mfpath\u001b[0m \u001b[0;32min\u001b[0m \u001b[0msys\u001b[0m\u001b[0;34m.\u001b[0m\u001b[0mmeta_path\u001b[0m\u001b[0;34m:\u001b[0m\u001b[0;34m\u001b[0m\u001b[0;34m\u001b[0m\u001b[0m\n",
            "\u001b[0;31mException\u001b[0m: File `'code_03_XX Product QnA Agentic chatbot.ipynb.py'` not found."
          ]
        }
      ],
      "source": [
        "#Reuse the agents created in the previous chapters by importing their notebooks\n",
        "#This will also import the chatbot and execute the code available.\n",
        "#Ignore / hide the code output and use only the agents\n",
        "\n",
        "#import the Product QnA Agent\n",
        "%run \"code_03_XX Product QnA Agentic chatbot.ipynb\"\n",
        "print(\"===============================================================\")\n",
        "#import the orders agents\n",
        "%run \"code_04_XX Orders Chatbot with custom agent.ipynb\""
      ]
    },
    {
      "cell_type": "code",
      "execution_count": null,
      "id": "4afc6a85-8f73-4c0c-bac0-c6f24badbf30",
      "metadata": {
        "id": "4afc6a85-8f73-4c0c-bac0-c6f24badbf30"
      },
      "outputs": [],
      "source": [
        "import functools\n",
        "# Helper function to invoke an agent\n",
        "def agent_node(state, agent, name, config):\n",
        "\n",
        "    #extract thread-id from request for conversation memory\n",
        "    thread_id=config[\"metadata\"][\"thread_id\"]\n",
        "    #Set the config for calling the agent\n",
        "    agent_config = {\"configurable\": {\"thread_id\": thread_id}}\n",
        "\n",
        "    #Pass the thread-id to establish memory for chatbot\n",
        "    #Invoke the agent with the state\n",
        "    result = agent.invoke(state, agent_config)\n",
        "\n",
        "    # Convert the agent output into a format that is suitable to append to the global state\n",
        "    if isinstance(result, ToolMessage):\n",
        "        pass\n",
        "    else:\n",
        "        final_result=AIMessage(result['messages'][-1].content)\n",
        "    return {\n",
        "        \"messages\": [final_result]\n",
        "    }\n",
        "\n",
        "#Create the product QnA node\n",
        "product_QnA_node=functools.partial(agent_node,\n",
        "                                   agent=product_QnA_agent,\n",
        "                                   name=\"Product_QnA_Agent\")\n",
        "#Create the Orders node\n",
        "#For a custom agent, the agent graph need to be provided as input\n",
        "orders_node=functools.partial(agent_node,\n",
        "                              agent=orders_agent.agent_graph,\n",
        "                              name=\"Orders_Agent\")\n"
      ]
    },
    {
      "cell_type": "markdown",
      "id": "97d925a9-4050-4de2-8dcb-bd9c044470fb",
      "metadata": {
        "id": "97d925a9-4050-4de2-8dcb-bd9c044470fb"
      },
      "source": [
        "## 06.04. Create the Routing Agent & Chatbot"
      ]
    },
    {
      "cell_type": "code",
      "execution_count": null,
      "id": "3d31b5b9-649d-4b6f-9480-b7754618eae4",
      "metadata": {
        "id": "3d31b5b9-649d-4b6f-9480-b7754618eae4"
      },
      "outputs": [],
      "source": [
        "#Creating the routing agent\n",
        "\n",
        "from typing import TypedDict, Annotated\n",
        "from langgraph.graph import StateGraph, END\n",
        "from langchain_core.messages import AnyMessage, SystemMessage, HumanMessage, ToolMessage\n",
        "import operator\n",
        "\n",
        "class RouterAgentState(TypedDict):\n",
        "    messages: Annotated[list[AnyMessage], operator.add]\n",
        "\n",
        "class RouterAgent:\n",
        "\n",
        "    def __init__(self, model, system_prompt, smalltalk_prompt, debug=False):\n",
        "\n",
        "        self.system_prompt=system_prompt\n",
        "        self.smalltalk_prompt=smalltalk_prompt\n",
        "        self.model=model\n",
        "        self.debug=debug\n",
        "\n",
        "        router_graph=StateGraph(RouterAgentState)\n",
        "        router_graph.add_node(\"Router\",self.call_llm)\n",
        "        router_graph.add_node(\"Product_Agent\",product_QnA_node)\n",
        "        router_graph.add_node(\"Orders_Agent\",orders_node)\n",
        "        router_graph.add_node(\"Small_Talk\", self.respond_smalltalk)\n",
        "\n",
        "        router_graph.add_conditional_edges(\n",
        "            \"Router\",\n",
        "            self.find_route,\n",
        "            {\"PRODUCT\": \"Product_Agent\",\n",
        "             \"ORDER\" : \"Orders_Agent\",\n",
        "             \"SMALLTALK\" : \"Small_Talk\",\n",
        "             \"END\": END }\n",
        "        )\n",
        "\n",
        "        #One way routing, not coming back to router\n",
        "        router_graph.add_edge(\"Product_Agent\",END)\n",
        "        router_graph.add_edge(\"Orders_Agent\",END)\n",
        "        router_graph.add_edge(\"Small_Talk\",END)\n",
        "\n",
        "        #Set where there graph starts\n",
        "        router_graph.set_entry_point(\"Router\")\n",
        "        self.router_graph = router_graph.compile()\n",
        "\n",
        "    def call_llm(self, state:RouterAgentState):\n",
        "        messages=state[\"messages\"]\n",
        "        if self.debug:\n",
        "            print(f\"Call LLM received {messages}\")\n",
        "\n",
        "        #If system prompt exists, add to messages in the front\n",
        "        if self.system_prompt:\n",
        "            messages = [SystemMessage(content=self.system_prompt)] + messages\n",
        "\n",
        "        #invoke the model with the message history\n",
        "        result = self.model.invoke(messages)\n",
        "\n",
        "        if self.debug:\n",
        "            print(f\"Call LLM result {result}\")\n",
        "        return { \"messages\":[result] }\n",
        "\n",
        "    def respond_smalltalk(self, state:RouterAgentState):\n",
        "        messages=state[\"messages\"]\n",
        "        if self.debug:\n",
        "            print(f\"Small talk received: {messages}\")\n",
        "\n",
        "        #If system prompt exists, add to messages in the front\n",
        "\n",
        "        messages = [SystemMessage(content=self.smalltalk_prompt)] + messages\n",
        "\n",
        "        #invoke the model with the message history\n",
        "        result = self.model.invoke(messages)\n",
        "\n",
        "        if self.debug:\n",
        "            print(f\"Small talk result {result}\")\n",
        "        return { \"messages\":[result] }\n",
        "\n",
        "    def find_route(self, state:RouterAgentState):\n",
        "        last_message = state[\"messages\"][-1]\n",
        "        if self.debug:\n",
        "            print(\"Router: Last result from LLM : \", last_message)\n",
        "\n",
        "        #Set the last message as the destination\n",
        "        destination=last_message.content\n",
        "\n",
        "        if self.debug:\n",
        "            print(f\"Destination chosen : {destination}\")\n",
        "        return destination\n"
      ]
    },
    {
      "cell_type": "code",
      "execution_count": null,
      "id": "2f9af521-affc-463d-927a-d0e09426f2e9",
      "metadata": {
        "id": "2f9af521-affc-463d-927a-d0e09426f2e9",
        "outputId": "813c52a2-6ab3-46e0-c44f-0f5cf5af5778"
      },
      "outputs": [
        {
          "data": {
            "image/png": "[encoded data removed]",
            "text/plain": [
              "<IPython.core.display.Image object>"
            ]
          },
          "execution_count": 6,
          "metadata": {},
          "output_type": "execute_result"
        }
      ],
      "source": [
        "#Create the chatbot\n",
        "from IPython.display import Image\n",
        "\n",
        "#Setup the system problem\n",
        "system_prompt = \"\"\"\n",
        "You are a Router, that analyzes the input query and chooses 4 options:\n",
        "SMALLTALK: If the user input is small talk, like greetings and good byes.\n",
        "PRODUCT: If the query is a product question about laptops, like features, specifications and pricing.\n",
        "ORDER: If the query is about orders for laptops, like order status, order details or update order quantity\n",
        "END: Default, when its neither PRODUCT or ORDER.\n",
        "\n",
        "The output should only be just one word out of the possible 4 : SMALLTALK, PRODUCT, ORDER, END.\n",
        "\"\"\"\n",
        "\n",
        "smalltalk_prompt=\"\"\"\n",
        "If the user request is small talk, like greetings and goodbyes, respond professionally.\n",
        "Mention that you will be able to answer questions about laptop product features and provide order status and updates.\n",
        "\"\"\"\n",
        "\n",
        "router_agent = RouterAgent(model,\n",
        "                           system_prompt,\n",
        "                           smalltalk_prompt,\n",
        "                           debug=False)\n",
        "\n",
        "Image(router_agent.router_graph.get_graph().draw_mermaid_png())"
      ]
    },
    {
      "cell_type": "markdown",
      "id": "aca8e58e-67eb-4bb0-ae26-d904290e59eb",
      "metadata": {
        "id": "aca8e58e-67eb-4bb0-ae26-d904290e59eb"
      },
      "source": [
        "## 06.05 Execute the Routing chatbot"
      ]
    },
    {
      "cell_type": "code",
      "execution_count": null,
      "id": "a55ad40f-912d-4e63-bd00-d2a017e9dfc5",
      "metadata": {
        "id": "a55ad40f-912d-4e63-bd00-d2a017e9dfc5",
        "outputId": "9b694b47-c82d-4571-c1b2-2711a6b6cc29"
      },
      "outputs": [
        {
          "name": "stdout",
          "output_type": "stream",
          "text": [
            "================================ Human Message =================================\n",
            "\n",
            "Tell me about the features of SpectraBook\n",
            "================================== Ai Message ==================================\n",
            "\n",
            "PRODUCT\n",
            "================================== Ai Message ==================================\n",
            "\n",
            "The SpectraBook S is designed for power users and features the following specifications:\n",
            "\n",
            "- **Processor**: Intel Core i9\n",
            "- **Memory**: 64GB RAM\n",
            "- **Storage**: 2TB SSD\n",
            "\n",
            "This workstation-class laptop is perfect for intensive tasks like video editing and 3D rendering.\n"
          ]
        }
      ],
      "source": [
        "#Execute a single request\n",
        "messages=[HumanMessage(content=\"Tell me about the features of SpectraBook\")]\n",
        "result=router_agent.router_graph.invoke({\"messages\":messages},config)\n",
        "for message in result['messages']:\n",
        "    print(message.pretty_repr())"
      ]
    },
    {
      "cell_type": "code",
      "execution_count": null,
      "id": "d1937615-0441-4ab8-8dae-46d39de88fbe",
      "metadata": {
        "id": "d1937615-0441-4ab8-8dae-46d39de88fbe",
        "outputId": "6bf3ba2a-f5fd-4caf-decc-942a05d8c963"
      },
      "outputs": [
        {
          "name": "stdout",
          "output_type": "stream",
          "text": [
            "================================ Human Message =================================\n",
            "\n",
            "What is the status of order ORD-7311?\n",
            "================================== Ai Message ==================================\n",
            "\n",
            "ORDER\n",
            "================================== Ai Message ==================================\n",
            "\n",
            "The status for order ID **ORD-7311** is as follows:\n",
            "\n",
            "- **Product Ordered:** NanoEdge Flex\n",
            "- **Quantity Ordered:** 3\n",
            "- **Delivery Date:** 2024-10-19\n",
            "\n",
            "If you need further details or assistance, feel free to ask!\n"
          ]
        }
      ],
      "source": [
        "#Execute a single request\n",
        "messages=[HumanMessage(content=\"What is the status of order ORD-7311?\")]\n",
        "result=router_agent.router_graph.invoke({\"messages\":messages},config)\n",
        "for message in result['messages']:\n",
        "    print(message.pretty_repr())"
      ]
    },
    {
      "cell_type": "code",
      "execution_count": null,
      "id": "82de2bf5-a850-46c7-b638-5737f4aefb99",
      "metadata": {
        "id": "82de2bf5-a850-46c7-b638-5737f4aefb99",
        "outputId": "a97f3634-009f-4f7b-baf0-3dee338b9aae"
      },
      "outputs": [
        {
          "name": "stdout",
          "output_type": "stream",
          "text": [
            "----------------------------------------\n",
            "USER : How are you doing?\n",
            "\n",
            "AGENT : Hello! I'm here to assist you with questions about laptop product features or to provide updates on your order status. How can I help you today?\n",
            "----------------------------------------\n",
            "USER : Please show me the details of the order ORD-7311\n",
            "\n",
            "AGENT : Here are the details for order **ORD-7311**:\n",
            "\n",
            "- **Product Ordered**: NanoEdge Flex\n",
            "- **Quantity Ordered**: 3\n",
            "- **Delivery Date**: 2024-10-19\n",
            "----------------------------------------\n",
            "USER : Can you add one more of that laptop to the order? \n",
            "\n",
            "AGENT : The quantity for order **ORD-7311** has been successfully updated to 4 units of the NanoEdge Flex laptop.\n",
            "----------------------------------------\n",
            "USER : Tell me about the features of SpectraBook laptop\n",
            "\n",
            "AGENT : The SpectraBook S is designed for power users and comes with the following features:\n",
            "\n",
            "- **Processor**: Intel Core i9\n",
            "- **Memory**: 64GB RAM\n",
            "- **Storage**: Massive 2TB SSD\n",
            "\n",
            "This workstation-class laptop is perfect for intensive tasks such as video editing and 3D rendering, making it an excellent choice for professionals requiring high performance.\n",
            "----------------------------------------\n",
            "USER : How much does it cost?\n",
            "\n",
            "AGENT : The SpectraBook S is priced at $2,499.\n",
            "----------------------------------------\n",
            "USER : Bye\n",
            "\n",
            "AGENT : Thank you for reaching out! If you have any questions about laptop product features or need updates on an order, feel free to contact us. Have a great day!\n"
          ]
        }
      ],
      "source": [
        "import uuid\n",
        "#Send a sequence of messages to chatbot and get its response\n",
        "#This simulates the conversation between the user and the Agentic chatbot\n",
        "user_inputs = [\n",
        "    \"How are you doing?\",\n",
        "    \"Please show me the details of the order ORD-7311\",\n",
        "    \"Can you add one more of that laptop to the order? \",\n",
        "    \"Tell me about the features of SpectraBook laptop\",\n",
        "    \"How much does it cost?\",\n",
        "    \"Bye\"\n",
        "]\n",
        "\n",
        "#Create a new thread\n",
        "config = {\"configurable\": {\"thread_id\": str(uuid.uuid4())}}\n",
        "\n",
        "for input in user_inputs:\n",
        "    print(f\"----------------------------------------\\nUSER : {input}\")\n",
        "    #Format the user message\n",
        "    user_message = {\"messages\":[HumanMessage(input)]}\n",
        "    #Get response from the agent\n",
        "    ai_response = router_agent.router_graph.invoke(user_message,config=config)\n",
        "    #Print the response\n",
        "    print(f\"\\nAGENT : {ai_response['messages'][-1].content}\")\n"
      ]
    }
  ],
  "metadata": {
    "kernelspec": {
      "display_name": "Python 3",
      "language": "python",
      "name": "python3"
    },
    "language_info": {
      "codemirror_mode": {
        "name": "ipython",
        "version": 3
      },
      "file_extension": ".py",
      "mimetype": "text/x-python",
      "name": "python",
      "nbconvert_exporter": "python",
      "pygments_lexer": "ipython3",
      "version": "3.10.12"
    },
    "colab": {
      "provenance": [],
      "include_colab_link": true
    }
  },
  "nbformat": 4,
  "nbformat_minor": 5
}